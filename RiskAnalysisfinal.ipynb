{
 "cells": [
  {
   "cell_type": "code",
   "execution_count": null,
   "id": "d229627b",
   "metadata": {
    "scrolled": true
   },
   "outputs": [],
   "source": [
    "import pandas as pd\n",
    "import numpy as np\n",
    "import xgboost as xgb\n",
    "from sklearn.metrics import mean_squared_error, mean_absolute_error, accuracy_score\n",
    "import matplotlib.pyplot as plt\n",
    "import seaborn as sns\n",
    "from sklearn.feature_selection import SelectKBest, chi2\n",
    "from sklearn.ensemble import ExtraTreesClassifier, RandomForestRegressor\n",
    "from autoviz.AutoViz_Class import AutoViz_Class\n",
    "from sklearn.model_selection import train_test_split\n",
    "from sklearn.preprocessing import OneHotEncoder\n",
    "from xgboost import XGBClassifier"
   ]
  },
  {
   "cell_type": "code",
   "execution_count": null,
   "id": "5586bb7e",
   "metadata": {},
   "outputs": [],
   "source": [
    "appli = pd.read_csv('application_data.csv')\n",
    "prev = pd.read_csv(\"previous_application.csv\")"
   ]
  },
  {
   "cell_type": "code",
   "execution_count": null,
   "id": "e0d613b5",
   "metadata": {},
   "outputs": [],
   "source": [
    "appli = appli.iloc[0:50000]\n",
    "prev = prev.iloc[0:50000]\n",
    "prev.shape, appli.shape"
   ]
  },
  {
   "cell_type": "code",
   "execution_count": null,
   "id": "c9173164",
   "metadata": {
    "scrolled": false
   },
   "outputs": [],
   "source": [
    "miss_application_data = pd.DataFrame((prev.isnull().sum())*100/prev.shape[0]).reset_index()\n",
    "miss_application_data.head()"
   ]
  },
  {
   "cell_type": "code",
   "execution_count": null,
   "id": "b81c5485",
   "metadata": {
    "scrolled": true
   },
   "outputs": [],
   "source": [
    "prev = prev.loc[:, prev.isnull().mean() < 0.30] #supprime les cols avec 30% de valeurs manquantes\n",
    "prev.shape"
   ]
  },
  {
   "cell_type": "code",
   "execution_count": null,
   "id": "bcbbcbed",
   "metadata": {
    "scrolled": true
   },
   "outputs": [],
   "source": [
    "appli = appli.loc[:, appli.isnull().mean() < 0.30] #supprime les cols avec 30% de valeurs manquantes\n",
    "appli.shape"
   ]
  },
  {
   "cell_type": "markdown",
   "id": "d33f32e0",
   "metadata": {},
   "source": [
    "### rencodage selon type, possibilité de générer des graphs"
   ]
  },
  {
   "cell_type": "code",
   "execution_count": null,
   "id": "f74c032b",
   "metadata": {
    "scrolled": false
   },
   "outputs": [],
   "source": [
    "cate = [i for i in prev.select_dtypes(include = object).columns if i not in [\"type\"] ]\n",
    "num = [i for i in prev.select_dtypes(include = np.number).columns if i not in ['SK_ID_CURR'] + [ 'TARGET']]"
   ]
  },
  {
   "cell_type": "code",
   "execution_count": null,
   "id": "1f72ce63",
   "metadata": {},
   "outputs": [],
   "source": [
    "application_data_x = appli[[x for x in appli.columns]]\n",
    "previous_application_x = prev[[x for x in prev.columns]]\n",
    "application_data_x[\"type\"] = \"application_data\"\n",
    "previous_application_x[\"type\"] = \"previous_application\"\n",
    "data = pd.concat([application_data_x,previous_application_x],axis=0) \n",
    "data = data[data['TARGET'].notna()]"
   ]
  },
  {
   "cell_type": "markdown",
   "id": "23d6e187",
   "metadata": {},
   "source": [
    "## a partir d'ici, plus de NaN values pour les perfs du modèle"
   ]
  },
  {
   "cell_type": "code",
   "execution_count": null,
   "id": "628232de",
   "metadata": {},
   "outputs": [],
   "source": [
    "y = data.TARGET\n",
    "X = data.drop(['SK_ID_CURR','TARGET'],axis=1)\n",
    "\n",
    "X_train_full, X_valid_full, y_train, y_valid = train_test_split(\n",
    "                                                    X, y, train_size=0.8, test_size=0.2, random_state=0)\n",
    "\n",
    "cols_with_missing = [col for col in X_train_full.columns if X_train_full[col].isnull().any()] \n",
    "X_train_full.drop(cols_with_missing, axis=1, inplace=True)\n",
    "X_valid_full.drop(cols_with_missing, axis=1, inplace=True)\n",
    "\n",
    "\n",
    "low_cardinality_cols = [cname for cname in X_train_full.columns if X_train_full[cname].nunique() < 10 and \n",
    "                        X_train_full[cname].dtype == \"object\"]\n",
    "\n",
    "numerical_cols = [cname for cname in X_train_full.columns if X_train_full[cname].dtype in ['int64', 'float64']]\n",
    "\n",
    "my_cols = low_cardinality_cols + numerical_cols\n",
    "X_train = X_train_full[my_cols].copy()\n",
    "X_valid = X_valid_full[my_cols].copy()"
   ]
  },
  {
   "cell_type": "code",
   "execution_count": null,
   "id": "b8e61fc1",
   "metadata": {},
   "outputs": [],
   "source": [
    "s = (X_train.dtypes == 'object')\n",
    "object_cols = list(s[s].index)"
   ]
  },
  {
   "cell_type": "markdown",
   "id": "630b4aba",
   "metadata": {},
   "source": [
    "### Encoding"
   ]
  },
  {
   "cell_type": "code",
   "execution_count": null,
   "id": "e4226426",
   "metadata": {},
   "outputs": [],
   "source": [
    "def score_dataset(X_train, X_valid, y_train, y_valid):\n",
    "    model = RandomForestRegressor(n_estimators=100, random_state=0)\n",
    "    model.fit(X_train, y_train)\n",
    "    preds = model.predict(X_valid)\n",
    "    return mean_absolute_error(y_valid, preds)"
   ]
  },
  {
   "cell_type": "code",
   "execution_count": null,
   "id": "3e5b9abe",
   "metadata": {},
   "outputs": [],
   "source": [
    "OH_encoder = OneHotEncoder(handle_unknown='ignore', sparse=False)\n",
    "OH_cols_train = pd.DataFrame(OH_encoder.fit_transform(X_train[object_cols]))\n",
    "OH_cols_valid = pd.DataFrame(OH_encoder.transform(X_valid[object_cols]))\n",
    "\n",
    "OH_cols_train.index = X_train.index\n",
    "OH_cols_valid.index = X_valid.index\n",
    "\n",
    "num_X_train = X_train.drop(object_cols, axis=1)\n",
    "num_X_valid = X_valid.drop(object_cols, axis=1)\n",
    "\n",
    "OH_X_train = pd.concat([num_X_train, OH_cols_train], axis=1)\n",
    "OH_X_valid = pd.concat([num_X_valid, OH_cols_valid], axis=1)\n",
    "\n",
    "print(\"MAE from One-Hot Encoding:\") \n",
    "print(score_dataset(OH_X_train, OH_X_valid, y_train, y_valid))"
   ]
  },
  {
   "cell_type": "code",
   "execution_count": null,
   "id": "c23ba6fa",
   "metadata": {},
   "outputs": [],
   "source": [
    "ff = pd.concat([OH_X_train, OH_X_valid], axis = 0)\n",
    "fff = pd.concat([y_train, y_valid], axis = 0)\n",
    "ff.shape, fff.shape"
   ]
  },
  {
   "cell_type": "markdown",
   "id": "b9f7c0f5",
   "metadata": {},
   "source": [
    "## Selection des features importantes + prédiction"
   ]
  },
  {
   "cell_type": "code",
   "execution_count": null,
   "id": "2f39cd45",
   "metadata": {
    "scrolled": true
   },
   "outputs": [],
   "source": [
    "X = abs(ff)  #independent columns\n",
    "y = fff    #target column i.e price range\n",
    "#apply SelectKBest class to extract top 10 best features\n",
    "bestfeatures = SelectKBest(score_func=chi2, k=10)\n",
    "fit = bestfeatures.fit(X,y)\n",
    "dfscores = pd.DataFrame(fit.scores_)\n",
    "dfcolumns = pd.DataFrame(X.columns)\n",
    "#concat two dataframes for better visualization \n",
    "featureScores = pd.concat([dfcolumns,dfscores],axis=1)\n",
    "featureScores.columns = ['Specs','Score']  #naming the dataframe columns\n",
    "print(featureScores.nlargest(10,'Score'))  #print 10 best features"
   ]
  },
  {
   "cell_type": "code",
   "execution_count": null,
   "id": "f6b2915f",
   "metadata": {},
   "outputs": [],
   "source": [
    "%matplotlib inline"
   ]
  },
  {
   "cell_type": "code",
   "execution_count": null,
   "id": "0b2de236",
   "metadata": {
    "scrolled": false
   },
   "outputs": [],
   "source": [
    "X = abs(ff)\n",
    "y = fff \n",
    "model = ExtraTreesClassifier()\n",
    "model.fit(X,y)\n",
    "#print(model.feature_importances_) \n",
    "feat_importances = pd.Series(model.feature_importances_, index=X.columns)\n",
    "feat_importances.nlargest(7).plot(kind='barh')\n",
    "plt.show()"
   ]
  },
  {
   "cell_type": "code",
   "execution_count": null,
   "id": "010aad6e",
   "metadata": {},
   "outputs": [],
   "source": [
    "Importantfeatures = list(feat_importances.nlargest(7).index)\n",
    "Importantfeatures"
   ]
  },
  {
   "cell_type": "code",
   "execution_count": null,
   "id": "572781cb",
   "metadata": {},
   "outputs": [],
   "source": [
    "datafinal = X[Importantfeatures]\n",
    "datafinal"
   ]
  },
  {
   "cell_type": "code",
   "execution_count": null,
   "id": "9009b995",
   "metadata": {
    "scrolled": false
   },
   "outputs": [],
   "source": [
    "creel = pd.concat([datafinal,y],axis=1)\n",
    "creel.head()"
   ]
  },
  {
   "cell_type": "code",
   "execution_count": null,
   "id": "035fdf5c",
   "metadata": {},
   "outputs": [],
   "source": [
    "AV = AutoViz_Class()"
   ]
  },
  {
   "cell_type": "code",
   "execution_count": null,
   "id": "c46c7120",
   "metadata": {
    "scrolled": true
   },
   "outputs": [],
   "source": [
    "res = AV.AutoViz(filename = \"\",dfte = creel, depVar=\"TARGET\")"
   ]
  },
  {
   "cell_type": "code",
   "execution_count": null,
   "id": "18708dc1",
   "metadata": {},
   "outputs": [],
   "source": [
    "X_train, X_valid, y_train, y_valid = train_test_split(\n",
    "                                                    creel, y, train_size=0.8, test_size=0.2, random_state=0)\n"
   ]
  },
  {
   "cell_type": "code",
   "execution_count": null,
   "id": "ddc4ba15",
   "metadata": {},
   "outputs": [],
   "source": [
    "model = XGBClassifier()"
   ]
  },
  {
   "cell_type": "code",
   "execution_count": null,
   "id": "a6b40e65",
   "metadata": {
    "scrolled": true
   },
   "outputs": [],
   "source": [
    "model.fit(X_train,y_train)"
   ]
  },
  {
   "cell_type": "code",
   "execution_count": null,
   "id": "d5a90213",
   "metadata": {},
   "outputs": [],
   "source": [
    "predict_train = model.predict(X_train)\n",
    "predict_train\n",
    "pred = pd.DataFrame(predict_train)\n",
    "rslt_df = pred[pred[0] == 1]\n",
    "rslt_df.head()"
   ]
  },
  {
   "cell_type": "code",
   "execution_count": null,
   "id": "cf877ed2",
   "metadata": {},
   "outputs": [],
   "source": [
    "trainaccuracy = accuracy_score(y_train,predict_train)\n",
    "print('accuracy_score on train dataset over 1 : ', trainaccuracy)"
   ]
  },
  {
   "cell_type": "code",
   "execution_count": null,
   "id": "123351fa",
   "metadata": {},
   "outputs": [],
   "source": [
    "predict_test = model.predict(X_valid)"
   ]
  },
  {
   "cell_type": "code",
   "execution_count": null,
   "id": "7a7432f9",
   "metadata": {
    "scrolled": true
   },
   "outputs": [],
   "source": [
    "testaccuracy = accuracy_score(y_valid,predict_test)\n",
    "testaccuracy"
   ]
  },
  {
   "cell_type": "markdown",
   "id": "944d3dc2",
   "metadata": {},
   "source": [
    "simulation pour un individu aléatoire"
   ]
  },
  {
   "cell_type": "code",
   "execution_count": null,
   "id": "04c6b37d",
   "metadata": {
    "scrolled": true
   },
   "outputs": [],
   "source": [
    "import random \n",
    "r = random.randint(0, len(X_valid))\n",
    "x = pd.DataFrame(X_valid)\n",
    "y.iloc[r,],y[y==1].sum() "
   ]
  },
  {
   "cell_type": "markdown",
   "id": "59aeea9a",
   "metadata": {},
   "source": [
    "# à améliorer, possibilité de saisie des informations par le créancier"
   ]
  },
  {
   "cell_type": "code",
   "execution_count": null,
   "id": "73659e50",
   "metadata": {},
   "outputs": [],
   "source": [
    "import ipywidgets as widgets\n",
    "from IPython.display import display"
   ]
  },
  {
   "cell_type": "code",
   "execution_count": null,
   "id": "60fce145",
   "metadata": {},
   "outputs": [],
   "source": [
    "AmtCreditWidg = widgets.Box(\n",
    "    [\n",
    "        widgets.Label(value='Credit amount of the loan :'),\n",
    "        widgets.BoundedFloatText(\n",
    "            value=100,\n",
    "            min=0,\n",
    "            max=1000000000.0,\n",
    "            step=0.1,\n",
    "            disabled=False\n",
    "        )\n",
    "    ]\n",
    ")\n",
    "\n",
    "IncomeWidg = widgets.Box(\n",
    "    [\n",
    "        widgets.Label(value='Income of the client :'),\n",
    "        widgets.BoundedFloatText(\n",
    "            value=100000,\n",
    "            min=0,\n",
    "            max=1000000000.0,\n",
    "            step=0.1,\n",
    "            disabled=False\n",
    "        )\n",
    "    ]\n",
    ")\n",
    "\n",
    "DayBirthWidg = widgets.Box(\n",
    "    [\n",
    "        widgets.Label(value='How old are you :'),\n",
    "        widgets.BoundedIntText(\n",
    "            value=8000,\n",
    "            min=0,\n",
    "            max=1000000000,\n",
    "            step=1,\n",
    "            disabled=False\n",
    "        )\n",
    "    ]\n",
    ")\n",
    "\n",
    "\n",
    "DayPublishWidg = widgets.Box(\n",
    "    [\n",
    "        widgets.Label(value='How many days before the application did client change the identity document with which you applied for the loan :'),\n",
    "        widgets.BoundedIntText(\n",
    "            value=2000,\n",
    "            min=0,\n",
    "            max=100000000,\n",
    "            step=1,\n",
    "            disabled=False\n",
    "        )\n",
    "    ]\n",
    ")\n",
    "\n",
    "DayRegistrationWidg = widgets.Box(\n",
    "    [\n",
    "        widgets.Label(value='How many days before the application did client change his registration :'),\n",
    "        widgets.BoundedIntText(\n",
    "            value=1500,\n",
    "            min=0,\n",
    "            max=100000000,\n",
    "            step=1,\n",
    "            disabled=False\n",
    "        )\n",
    "    ]\n",
    ")\n",
    "\n",
    "RelativPopWidg = widgets.Box(\n",
    "    [\n",
    "        widgets.Label(value='Normalized population of region where you live :'),\n",
    "        widgets.BoundedFloatText(\n",
    "            value=0.5,\n",
    "            min=0,\n",
    "            max=1,\n",
    "            step=0.000001,\n",
    "            disabled=False\n",
    "        )\n",
    "    ]\n",
    ")\n",
    "\n",
    "HourWidg = widgets.Box(\n",
    "    [\n",
    "        widgets.Label(value='Approximately at what hour did you apply for the loan (h) :'),\n",
    "        widgets.BoundedIntText(\n",
    "            value=12,\n",
    "            min=0,\n",
    "            max=230000,\n",
    "            step=1,\n",
    "            disabled=False\n",
    "        )\n",
    "    ]\n",
    ")\n"
   ]
  },
  {
   "cell_type": "code",
   "execution_count": null,
   "id": "ca5ef2ea",
   "metadata": {
    "scrolled": true
   },
   "outputs": [],
   "source": [
    "display(DayBirthWidg)\n",
    "display(DayPublishWidg)\n",
    "display(DayRegistrationWidg)\n",
    "display(AmtCreditWidg)\n",
    "display(IncomeWidg)\n",
    "display(RelativPopWidg)\n",
    "display(HourWidg)"
   ]
  },
  {
   "cell_type": "code",
   "execution_count": null,
   "id": "63b87c21",
   "metadata": {
    "scrolled": false
   },
   "outputs": [],
   "source": [
    "result = [DayBirthWidg.children[1].value, DayPublishWidg.children[1].value, DayRegistrationWidg.children[1].value *365 , AmtCreditWidg.children[1].value, IncomeWidg.children[1].value, RelativPopWidg.children[1].value, HourWidg.children[1].value]\n",
    "result = pd.DataFrame(result).transpose()\n",
    "result"
   ]
  },
  {
   "cell_type": "code",
   "execution_count": null,
   "id": "f6c67998",
   "metadata": {},
   "outputs": [],
   "source": [
    "y = creel['TARGET']\n",
    "x = creel.drop(['TARGET'],axis = 1)\n",
    "x"
   ]
  },
  {
   "cell_type": "code",
   "execution_count": null,
   "id": "28220519",
   "metadata": {},
   "outputs": [],
   "source": [
    "result.columns=x.columns\n",
    "result"
   ]
  },
  {
   "cell_type": "code",
   "execution_count": null,
   "id": "dc1fa3e0",
   "metadata": {},
   "outputs": [],
   "source": [
    "model.fit(x,y)"
   ]
  },
  {
   "cell_type": "code",
   "execution_count": null,
   "id": "b718a64b",
   "metadata": {},
   "outputs": [],
   "source": [
    "pred = model.predict(result)\n",
    "pred"
   ]
  }
 ],
 "metadata": {
  "kernelspec": {
   "display_name": "Python 3 (ipykernel)",
   "language": "python",
   "name": "python3"
  },
  "language_info": {
   "codemirror_mode": {
    "name": "ipython",
    "version": 3
   },
   "file_extension": ".py",
   "mimetype": "text/x-python",
   "name": "python",
   "nbconvert_exporter": "python",
   "pygments_lexer": "ipython3",
   "version": "3.8.5"
  },
  "toc": {
   "base_numbering": 1,
   "nav_menu": {},
   "number_sections": false,
   "sideBar": false,
   "skip_h1_title": false,
   "title_cell": "Table of Contents",
   "title_sidebar": "Contents",
   "toc_cell": false,
   "toc_position": {},
   "toc_section_display": false,
   "toc_window_display": false
  }
 },
 "nbformat": 4,
 "nbformat_minor": 5
}
