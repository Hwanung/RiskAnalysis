{
 "cells": [
  {
   "cell_type": "code",
   "execution_count": 121,
   "id": "d229627b",
   "metadata": {
    "scrolled": true
   },
   "outputs": [],
   "source": [
    "import pandas as pd\n",
    "import numpy as np\n",
    "#from autoviz.AutoViz_Class import AutoViz_Class\n",
    "import xgboost as xgb\n",
    "from sklearn.metrics import mean_squared_error\n",
    "import matplotlib.pyplot as plt\n",
    "import seaborn as sns"
   ]
  },
  {
   "cell_type": "code",
   "execution_count": 122,
   "id": "5586bb7e",
   "metadata": {},
   "outputs": [],
   "source": [
    "appli = pd.read_csv('application_data.csv')\n",
    "prev = pd.read_csv(\"previous_application.csv\")\n",
    "col = pd.read_csv('columns_description.csv')"
   ]
  },
  {
   "cell_type": "code",
   "execution_count": 123,
   "id": "e0d613b5",
   "metadata": {},
   "outputs": [],
   "source": [
    "appli = appli.iloc[0:50000]\n",
    "prev = prev.iloc[0:50000]\n",
    "#appli = appli.iloc[:, : 42]\n",
    "#prev = prev.iloc[:, : 42]"
   ]
  },
  {
   "cell_type": "code",
   "execution_count": 124,
   "id": "2325a941",
   "metadata": {},
   "outputs": [
    {
     "data": {
      "text/plain": [
       "((50000, 37), (50000, 122))"
      ]
     },
     "execution_count": 124,
     "metadata": {},
     "output_type": "execute_result"
    }
   ],
   "source": [
    "prev.shape, appli.shape"
   ]
  },
  {
   "cell_type": "code",
   "execution_count": 125,
   "id": "c9173164",
   "metadata": {
    "scrolled": true
   },
   "outputs": [
    {
     "data": {
      "text/html": [
       "<div>\n",
       "<style scoped>\n",
       "    .dataframe tbody tr th:only-of-type {\n",
       "        vertical-align: middle;\n",
       "    }\n",
       "\n",
       "    .dataframe tbody tr th {\n",
       "        vertical-align: top;\n",
       "    }\n",
       "\n",
       "    .dataframe thead th {\n",
       "        text-align: right;\n",
       "    }\n",
       "</style>\n",
       "<table border=\"1\" class=\"dataframe\">\n",
       "  <thead>\n",
       "    <tr style=\"text-align: right;\">\n",
       "      <th></th>\n",
       "      <th>index</th>\n",
       "      <th>0</th>\n",
       "    </tr>\n",
       "  </thead>\n",
       "  <tbody>\n",
       "    <tr>\n",
       "      <th>0</th>\n",
       "      <td>SK_ID_PREV</td>\n",
       "      <td>0.000</td>\n",
       "    </tr>\n",
       "    <tr>\n",
       "      <th>1</th>\n",
       "      <td>SK_ID_CURR</td>\n",
       "      <td>0.000</td>\n",
       "    </tr>\n",
       "    <tr>\n",
       "      <th>2</th>\n",
       "      <td>NAME_CONTRACT_TYPE</td>\n",
       "      <td>0.000</td>\n",
       "    </tr>\n",
       "    <tr>\n",
       "      <th>3</th>\n",
       "      <td>AMT_ANNUITY</td>\n",
       "      <td>21.184</td>\n",
       "    </tr>\n",
       "    <tr>\n",
       "      <th>4</th>\n",
       "      <td>AMT_APPLICATION</td>\n",
       "      <td>0.000</td>\n",
       "    </tr>\n",
       "  </tbody>\n",
       "</table>\n",
       "</div>"
      ],
      "text/plain": [
       "                index       0\n",
       "0          SK_ID_PREV   0.000\n",
       "1          SK_ID_CURR   0.000\n",
       "2  NAME_CONTRACT_TYPE   0.000\n",
       "3         AMT_ANNUITY  21.184\n",
       "4     AMT_APPLICATION   0.000"
      ]
     },
     "execution_count": 125,
     "metadata": {},
     "output_type": "execute_result"
    }
   ],
   "source": [
    "miss_application_data = pd.DataFrame((prev.isnull().sum())*100/prev.shape[0]).reset_index()\n",
    "miss_application_data.head()"
   ]
  },
  {
   "cell_type": "markdown",
   "id": "d496f61a",
   "metadata": {},
   "source": [
    "## deux options, laquelle tu pref ?"
   ]
  },
  {
   "cell_type": "markdown",
   "id": "fcd381ee",
   "metadata": {},
   "source": [
    "1 - delete comme en dessous"
   ]
  },
  {
   "cell_type": "code",
   "execution_count": 126,
   "id": "b81c5485",
   "metadata": {
    "scrolled": true
   },
   "outputs": [
    {
     "data": {
      "text/plain": [
       "(50000, 26)"
      ]
     },
     "execution_count": 126,
     "metadata": {},
     "output_type": "execute_result"
    }
   ],
   "source": [
    "prev = prev.loc[:, prev.isnull().mean() < 0.30] #supprime les cols avec 30% de valeurs manquantes\n",
    "prev.shape"
   ]
  },
  {
   "cell_type": "markdown",
   "id": "4b3d0254",
   "metadata": {},
   "source": [
    "2 - remplacer par valeurs médianes ? "
   ]
  },
  {
   "cell_type": "code",
   "execution_count": 160,
   "id": "bd033c0e",
   "metadata": {
    "scrolled": false
   },
   "outputs": [
    {
     "data": {
      "text/plain": [
       "6              AMT_DOWN_PAYMENT\n",
       "12            RATE_DOWN_PAYMENT\n",
       "13        RATE_INTEREST_PRIMARY\n",
       "14     RATE_INTEREST_PRIVILEGED\n",
       "20              NAME_TYPE_SUITE\n",
       "31           DAYS_FIRST_DRAWING\n",
       "32               DAYS_FIRST_DUE\n",
       "33    DAYS_LAST_DUE_1ST_VERSION\n",
       "34                DAYS_LAST_DUE\n",
       "35             DAYS_TERMINATION\n",
       "36    NFLAG_INSURED_ON_APPROVAL\n",
       "Name: index, dtype: object"
      ]
     },
     "execution_count": 160,
     "metadata": {},
     "output_type": "execute_result"
    }
   ],
   "source": [
    "vec = miss_application_data.loc[miss_application_data[0]>=30][\"index\"]\n",
    "vec"
   ]
  },
  {
   "cell_type": "code",
   "execution_count": 128,
   "id": "3f40ab8c",
   "metadata": {
    "scrolled": true
   },
   "outputs": [
    {
     "data": {
      "text/plain": [
       "'\\nfor i in vec:\\n    prev.loc[prev[i]==prev[i].median()]\\n'"
      ]
     },
     "execution_count": 128,
     "metadata": {},
     "output_type": "execute_result"
    }
   ],
   "source": [
    "# a finir\n",
    "'''\n",
    "for i in vec:\n",
    "    prev.loc[prev[i]==prev[i].median()]\n",
    "'''"
   ]
  },
  {
   "cell_type": "code",
   "execution_count": 129,
   "id": "bcbbcbed",
   "metadata": {
    "scrolled": true
   },
   "outputs": [
    {
     "data": {
      "text/plain": [
       "(50000, 72)"
      ]
     },
     "execution_count": 129,
     "metadata": {},
     "output_type": "execute_result"
    }
   ],
   "source": [
    "appli = appli.loc[:, appli.isnull().mean() < 0.30] #supprime les cols avec 30% de valeurs manquantes\n",
    "appli.shape"
   ]
  },
  {
   "cell_type": "markdown",
   "id": "d33f32e0",
   "metadata": {},
   "source": [
    "### rencodage selon type"
   ]
  },
  {
   "cell_type": "code",
   "execution_count": 130,
   "id": "f74c032b",
   "metadata": {
    "scrolled": false
   },
   "outputs": [
    {
     "name": "stderr",
     "output_type": "stream",
     "text": [
      "C:\\Users\\Adrien\\AppData\\Local\\Temp/ipykernel_8484/1768624195.py:1: DeprecationWarning: `np.object` is a deprecated alias for the builtin `object`. To silence this warning, use `object` by itself. Doing this will not modify any behavior and is safe. \n",
      "Deprecated in NumPy 1.20; for more details and guidance: https://numpy.org/devdocs/release/1.20.0-notes.html#deprecations\n",
      "  cate = [i for i in prev.select_dtypes(include = np.object).columns if i not in [\"type\"] ]\n"
     ]
    }
   ],
   "source": [
    "cate = [i for i in prev.select_dtypes(include = np.object).columns if i not in [\"type\"] ]\n",
    "num = [i for i in prev.select_dtypes(include = np.number).columns if i not in ['SK_ID_CURR'] + [ 'TARGET']]"
   ]
  },
  {
   "cell_type": "code",
   "execution_count": 145,
   "id": "1f72ce63",
   "metadata": {},
   "outputs": [],
   "source": [
    "application_data_x = appli[[x for x in appli.columns]]\n",
    "previous_application_x = prev[[x for x in prev.columns]]\n",
    "application_data_x[\"type\"] = \"application_data\"\n",
    "previous_application_x[\"type\"] = \"previous_application\"\n",
    "data = pd.concat([application_data_x,previous_application_x],axis=0) \n",
    "data = data[data['TARGET'].notna()]"
   ]
  },
  {
   "cell_type": "markdown",
   "id": "23d6e187",
   "metadata": {},
   "source": [
    "## a partir d'ici, plus de nan values pour les perfs du modèle"
   ]
  },
  {
   "cell_type": "code",
   "execution_count": 154,
   "id": "628232de",
   "metadata": {},
   "outputs": [
    {
     "name": "stderr",
     "output_type": "stream",
     "text": [
      "C:\\Users\\Adrien\\anaconda3\\envs\\machlearn\\lib\\site-packages\\pandas\\core\\frame.py:4163: SettingWithCopyWarning: \n",
      "A value is trying to be set on a copy of a slice from a DataFrame\n",
      "\n",
      "See the caveats in the documentation: https://pandas.pydata.org/pandas-docs/stable/user_guide/indexing.html#returning-a-view-versus-a-copy\n",
      "  return super().drop(\n"
     ]
    }
   ],
   "source": [
    "from sklearn.model_selection import train_test_split\n",
    "\n",
    "y = data.TARGET\n",
    "X = data.drop(['TARGET'],axis=1)\n",
    "\n",
    "X_train_full, X_valid_full, y_train, y_valid = train_test_split(\n",
    "                                                    X, y, train_size=0.8, test_size=0.2, random_state=0)\n",
    "\n",
    "cols_with_missing = [col for col in X_train_full.columns if X_train_full[col].isnull().any()] \n",
    "X_train_full.drop(cols_with_missing, axis=1, inplace=True)\n",
    "X_valid_full.drop(cols_with_missing, axis=1, inplace=True)\n",
    "\n",
    "\n",
    "low_cardinality_cols = [cname for cname in X_train_full.columns if X_train_full[cname].nunique() < 10 and \n",
    "                        X_train_full[cname].dtype == \"object\"]\n",
    "\n",
    "numerical_cols = [cname for cname in X_train_full.columns if X_train_full[cname].dtype in ['int64', 'float64']]\n",
    "\n",
    "my_cols = low_cardinality_cols + numerical_cols\n",
    "X_train = X_train_full[my_cols].copy()\n",
    "X_valid = X_valid_full[my_cols].copy()"
   ]
  },
  {
   "cell_type": "code",
   "execution_count": 155,
   "id": "b8e61fc1",
   "metadata": {},
   "outputs": [],
   "source": [
    "s = (X_train.dtypes == 'object')\n",
    "object_cols = list(s[s].index)"
   ]
  },
  {
   "cell_type": "markdown",
   "id": "630b4aba",
   "metadata": {},
   "source": [
    "### implémentation possible pour un DF qui se mettrait à jour "
   ]
  },
  {
   "cell_type": "code",
   "execution_count": null,
   "id": "3de9f698",
   "metadata": {},
   "outputs": [],
   "source": [
    "from zlib import crc32\n",
    "def test_set_check(identifier, test_ratio):\n",
    "    return crc32(np.int64(identifier)) & 0xffffffff < test_ratio * 2**32\n",
    "def split_train_test_by_id(data, test_ratio, id_column):\n",
    "    ids = data[id_column]\n",
    "    in_test_set = ids.apply(lambda id_: test_set_check(id_, test_ratio))\n",
    "    return data.loc[~in_test_set], data.loc[in_test_set]\n",
    "\n",
    "data_withid = data.reset_index() # adds an `index` column\n",
    "train_set, test_set = split_train_test_by_id(data_withid, 0.2, \"index\")"
   ]
  },
  {
   "cell_type": "code",
   "execution_count": 149,
   "id": "925ac1b8",
   "metadata": {
    "scrolled": true
   },
   "outputs": [
    {
     "data": {
      "text/plain": [
       "(40000, 90)"
      ]
     },
     "execution_count": 149,
     "metadata": {},
     "output_type": "execute_result"
    }
   ],
   "source": [
    "X_train"
   ]
  },
  {
   "cell_type": "code",
   "execution_count": 157,
   "id": "e4226426",
   "metadata": {},
   "outputs": [],
   "source": [
    "from sklearn.ensemble import RandomForestRegressor\n",
    "from sklearn.metrics import mean_absolute_error\n",
    "\n",
    "def score_dataset(X_train, X_valid, y_train, y_valid):\n",
    "    model = RandomForestRegressor(n_estimators=100, random_state=0)\n",
    "    model.fit(X_train, y_train)\n",
    "    preds = model.predict(X_valid)\n",
    "    return mean_absolute_error(y_valid, preds)"
   ]
  },
  {
   "cell_type": "code",
   "execution_count": 158,
   "id": "3e5b9abe",
   "metadata": {},
   "outputs": [
    {
     "name": "stdout",
     "output_type": "stream",
     "text": [
      "MAE from One-Hot Encoding:\n",
      "0.156579\n"
     ]
    }
   ],
   "source": [
    "from sklearn.preprocessing import OneHotEncoder\n",
    "\n",
    "OH_encoder = OneHotEncoder(handle_unknown='ignore', sparse=False)\n",
    "OH_cols_train = pd.DataFrame(OH_encoder.fit_transform(X_train[object_cols]))\n",
    "OH_cols_valid = pd.DataFrame(OH_encoder.transform(X_valid[object_cols]))\n",
    "\n",
    "OH_cols_train.index = X_train.index\n",
    "OH_cols_valid.index = X_valid.index\n",
    "\n",
    "num_X_train = X_train.drop(object_cols, axis=1)\n",
    "num_X_valid = X_valid.drop(object_cols, axis=1)\n",
    "\n",
    "OH_X_train = pd.concat([num_X_train, OH_cols_train], axis=1)\n",
    "OH_X_valid = pd.concat([num_X_valid, OH_cols_valid], axis=1)\n",
    "\n",
    "print(\"MAE from One-Hot Encoding:\") \n",
    "print(score_dataset(OH_X_train, OH_X_valid, y_train, y_valid))"
   ]
  },
  {
   "cell_type": "markdown",
   "id": "500950ef",
   "metadata": {},
   "source": [
    "ici, model pour selectionner les features importantes"
   ]
  },
  {
   "cell_type": "code",
   "execution_count": 159,
   "id": "deeade26",
   "metadata": {},
   "outputs": [
    {
     "data": {
      "text/plain": [
       "DecisionTreeRegressor(random_state=1)"
      ]
     },
     "execution_count": 159,
     "metadata": {},
     "output_type": "execute_result"
    }
   ],
   "source": [
    "from sklearn.tree import DecisionTreeRegressor\n",
    "model = DecisionTreeRegressor(random_state=1)\n",
    "\n",
    "model.fit(OH_X_train,y_train)"
   ]
  },
  {
   "cell_type": "markdown",
   "id": "21ec2a38",
   "metadata": {},
   "source": [
    "ici, utilisateur rentre les infos pr les features importantes et on lui donne un score / ou "
   ]
  }
 ],
 "metadata": {
  "kernelspec": {
   "display_name": "Python 3 (ipykernel)",
   "language": "python",
   "name": "python3"
  },
  "language_info": {
   "codemirror_mode": {
    "name": "ipython",
    "version": 3
   },
   "file_extension": ".py",
   "mimetype": "text/x-python",
   "name": "python",
   "nbconvert_exporter": "python",
   "pygments_lexer": "ipython3",
   "version": "3.8.5"
  },
  "toc": {
   "base_numbering": 1,
   "nav_menu": {},
   "number_sections": false,
   "sideBar": false,
   "skip_h1_title": false,
   "title_cell": "Table of Contents",
   "title_sidebar": "Contents",
   "toc_cell": false,
   "toc_position": {},
   "toc_section_display": false,
   "toc_window_display": false
  }
 },
 "nbformat": 4,
 "nbformat_minor": 5
}
